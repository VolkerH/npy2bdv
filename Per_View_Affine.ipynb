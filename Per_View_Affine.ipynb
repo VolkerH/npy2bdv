{
 "cells": [
  {
   "cell_type": "code",
   "execution_count": 1,
   "metadata": {},
   "outputs": [],
   "source": [
    "import time\n",
    "import sys\n",
    "import numpy as np\n",
    "import npy2bdv\n",
    "\n",
    "rand_stack = np.random.randint(0, 100, size=(41, 1024, 2048), dtype='int16')\n"
   ]
  },
  {
   "cell_type": "code",
   "execution_count": 2,
   "metadata": {},
   "outputs": [
    {
     "name": "stdout",
     "output_type": "stream",
     "text": [
      "Example3: writing 1 time point and 1 channel with 10-px shear transform along X axis\n",
      "appending view with setup id 0\n",
      "appending view with setup id 1\n",
      "{0: array([[1.e+00, 0.e+00, 1.e+01, 0.e+00],\n",
      "       [0.e+00, 1.e+00, 0.e+00, 2.e+03],\n",
      "       [0.e+00, 0.e+00, 1.e+00, 0.e+00]]), 1: array([[1.e+00, 0.e+00, 1.e+01, 0.e+00],\n",
      "       [0.e+00, 1.e+00, 0.e+00, 0.e+00],\n",
      "       [0.e+00, 0.e+00, 1.e+00, 5.e+03]])}\n",
      "Sheared data written into ./rubbish5.h5\n",
      "\n"
     ]
    }
   ],
   "source": [
    "print(\"Example3: writing 1 time point and 1 channel with 10-px shear transform along X axis\")\n",
    "fname = \"./rubbish5.h5\"\n",
    "bdv_writer = npy2bdv.BdvWriter(fname, nchannels=1, ntiles=2, subsamp=((1, 1, 1),))\n",
    "shear_x_px = 10\n",
    "affine_matrix = np.array(((1.0, 0.0, shear_x_px, 0.0),\n",
    "                          (0.0, 1.0, 0.0, 2000.0),\n",
    "                          (0.0, 0.0, 1.0, 0.0)))\n",
    "bdv_writer.append_view(rand_stack, time=0, channel=0, tile=0, m_affine=affine_matrix, affine_name=\"first\")\n",
    "affine_matrix = np.array(((1.0, 0.0, shear_x_px, 0.0),\n",
    "                          (0.0, 1.0, 0.0, 0.0),\n",
    "                          (0.0, 0.0, 1.0, 5000.0)))\n",
    "bdv_writer.append_view(rand_stack, time=0, channel=0, tile=1, m_affine=affine_matrix, affine_name=\"assadasd\")\n",
    "print(bdv_writer.affine_matrices)\n",
    "bdv_writer.write_xml_file(ntimes=1, m_affine=affine_matrix)\n",
    "bdv_writer.close()\n",
    "print(\"Sheared data written into \" + fname + \"\\n\")"
   ]
  }
 ],
 "metadata": {
  "kernelspec": {
   "display_name": "Python 3",
   "language": "python",
   "name": "python3"
  },
  "language_info": {
   "codemirror_mode": {
    "name": "ipython",
    "version": 3
   },
   "file_extension": ".py",
   "mimetype": "text/x-python",
   "name": "python",
   "nbconvert_exporter": "python",
   "pygments_lexer": "ipython3",
   "version": "3.6.8"
  }
 },
 "nbformat": 4,
 "nbformat_minor": 2
}
